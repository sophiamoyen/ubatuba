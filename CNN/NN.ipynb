{
 "cells": [
  {
   "cell_type": "code",
   "execution_count": 42,
   "id": "511ce21c-0ca3-46a1-b3a8-e29ce75e247e",
   "metadata": {},
   "outputs": [
    {
     "name": "stdout",
     "output_type": "stream",
     "text": [
      "Requirement already satisfied: scipy>=1.8.1 in /opt/tljh/user/envs/pytorch/lib/python3.8/site-packages (from -r requirements.txt (line 1)) (1.10.1)\n",
      "Requirement already satisfied: matplotlib>=3.3.0 in /opt/tljh/user/envs/pytorch/lib/python3.8/site-packages (from -r requirements.txt (line 2)) (3.5.1)\n",
      "Requirement already satisfied: numpy>=1.18.5 in /opt/tljh/user/envs/pytorch/lib/python3.8/site-packages (from -r requirements.txt (line 3)) (1.24.2)\n",
      "Requirement already satisfied: pandas>=1.1.0 in /opt/tljh/user/envs/pytorch/lib/python3.8/site-packages (from -r requirements.txt (line 4)) (1.4.2)\n",
      "Requirement already satisfied: mne>=1.3.1 in /opt/tljh/user/envs/pytorch/lib/python3.8/site-packages (from -r requirements.txt (line 5)) (1.3.1)\n",
      "Requirement already satisfied: ruptures>=1.1.7 in /opt/tljh/user/envs/pytorch/lib/python3.8/site-packages (from -r requirements.txt (line 6)) (1.1.7)\n",
      "Requirement already satisfied: mysql-connector-python>=8.0.26 in /home/jupyter-wki_team_6/.local/lib/python3.8/site-packages (from -r requirements.txt (line 7)) (8.2.0)\n",
      "Requirement already satisfied: joblib>=1.2 in /opt/tljh/user/envs/pytorch/lib/python3.8/site-packages (from -r requirements.txt (line 8)) (1.2.0)\n",
      "Requirement already satisfied: cycler>=0.10 in /opt/tljh/user/envs/pytorch/lib/python3.8/site-packages (from matplotlib>=3.3.0->-r requirements.txt (line 2)) (0.11.0)\n",
      "Requirement already satisfied: pillow>=6.2.0 in /opt/tljh/user/envs/pytorch/lib/python3.8/site-packages (from matplotlib>=3.3.0->-r requirements.txt (line 2)) (9.1.0)\n",
      "Requirement already satisfied: python-dateutil>=2.7 in /opt/tljh/user/envs/pytorch/lib/python3.8/site-packages (from matplotlib>=3.3.0->-r requirements.txt (line 2)) (2.8.2)\n",
      "Requirement already satisfied: fonttools>=4.22.0 in /opt/tljh/user/envs/pytorch/lib/python3.8/site-packages (from matplotlib>=3.3.0->-r requirements.txt (line 2)) (4.33.2)\n",
      "Requirement already satisfied: pyparsing>=2.2.1 in /opt/tljh/user/envs/pytorch/lib/python3.8/site-packages (from matplotlib>=3.3.0->-r requirements.txt (line 2)) (3.0.8)\n",
      "Requirement already satisfied: packaging>=20.0 in /opt/tljh/user/envs/pytorch/lib/python3.8/site-packages (from matplotlib>=3.3.0->-r requirements.txt (line 2)) (21.3)\n",
      "Requirement already satisfied: kiwisolver>=1.0.1 in /opt/tljh/user/envs/pytorch/lib/python3.8/site-packages (from matplotlib>=3.3.0->-r requirements.txt (line 2)) (1.4.2)\n",
      "Requirement already satisfied: pytz>=2020.1 in /opt/tljh/user/envs/pytorch/lib/python3.8/site-packages (from pandas>=1.1.0->-r requirements.txt (line 4)) (2022.1)\n",
      "Requirement already satisfied: jinja2 in /opt/tljh/user/envs/pytorch/lib/python3.8/site-packages (from mne>=1.3.1->-r requirements.txt (line 5)) (3.1.2)\n",
      "Requirement already satisfied: pooch>=1.5 in /opt/tljh/user/envs/pytorch/lib/python3.8/site-packages (from mne>=1.3.1->-r requirements.txt (line 5)) (1.7.0)\n",
      "Requirement already satisfied: decorator in /opt/tljh/user/envs/pytorch/lib/python3.8/site-packages (from mne>=1.3.1->-r requirements.txt (line 5)) (5.1.1)\n",
      "Requirement already satisfied: tqdm in /opt/tljh/user/envs/pytorch/lib/python3.8/site-packages (from mne>=1.3.1->-r requirements.txt (line 5)) (4.65.0)\n",
      "Requirement already satisfied: protobuf<=4.21.12,>=4.21.1 in /home/jupyter-wki_team_6/.local/lib/python3.8/site-packages (from mysql-connector-python>=8.0.26->-r requirements.txt (line 7)) (4.21.12)\n",
      "Requirement already satisfied: platformdirs>=2.5.0 in /opt/tljh/user/envs/pytorch/lib/python3.8/site-packages (from pooch>=1.5->mne>=1.3.1->-r requirements.txt (line 5)) (3.2.0)\n",
      "Requirement already satisfied: requests>=2.19.0 in /opt/tljh/user/envs/pytorch/lib/python3.8/site-packages (from pooch>=1.5->mne>=1.3.1->-r requirements.txt (line 5)) (2.27.1)\n",
      "Requirement already satisfied: six>=1.5 in /opt/tljh/user/envs/pytorch/lib/python3.8/site-packages (from python-dateutil>=2.7->matplotlib>=3.3.0->-r requirements.txt (line 2)) (1.16.0)\n",
      "Requirement already satisfied: MarkupSafe>=2.0 in /opt/tljh/user/envs/pytorch/lib/python3.8/site-packages (from jinja2->mne>=1.3.1->-r requirements.txt (line 5)) (2.1.2)\n",
      "Requirement already satisfied: urllib3<1.27,>=1.21.1 in /opt/tljh/user/envs/pytorch/lib/python3.8/site-packages (from requests>=2.19.0->pooch>=1.5->mne>=1.3.1->-r requirements.txt (line 5)) (1.26.9)\n",
      "Requirement already satisfied: charset-normalizer~=2.0.0 in /opt/tljh/user/envs/pytorch/lib/python3.8/site-packages (from requests>=2.19.0->pooch>=1.5->mne>=1.3.1->-r requirements.txt (line 5)) (2.0.12)\n",
      "Requirement already satisfied: idna<4,>=2.5 in /opt/tljh/user/envs/pytorch/lib/python3.8/site-packages (from requests>=2.19.0->pooch>=1.5->mne>=1.3.1->-r requirements.txt (line 5)) (3.3)\n",
      "Requirement already satisfied: certifi>=2017.4.17 in /opt/tljh/user/envs/pytorch/lib/python3.8/site-packages (from requests>=2.19.0->pooch>=1.5->mne>=1.3.1->-r requirements.txt (line 5)) (2021.10.8)\n"
     ]
    }
   ],
   "source": [
    "!pip install --user -r requirements.txt"
   ]
  },
  {
   "cell_type": "code",
   "execution_count": 58,
   "id": "cb123175-ca33-4feb-8bfc-f632f8c9de98",
   "metadata": {},
   "outputs": [],
   "source": [
    "import csv\n",
    "import matplotlib.pyplot as plt\n",
    "import numpy as np\n",
    "import os\n",
    "from wettbewerb import load_references, get_3montages\n",
    "import mne\n",
    "from scipy import signal as sig\n",
    "import ruptures as rpt"
   ]
  },
  {
   "cell_type": "code",
   "execution_count": 78,
   "id": "79e06304-399d-4464-9e32-fc8dd8c12160",
   "metadata": {},
   "outputs": [],
   "source": [
    "training_folder = \"../../shared_data/training_mini\""
   ]
  },
  {
   "cell_type": "code",
   "execution_count": 79,
   "id": "98f4e750-c88d-4b30-8d62-bb3896e3a5c9",
   "metadata": {},
   "outputs": [
    {
     "name": "stdout",
     "output_type": "stream",
     "text": [
      "100\t Dateien wurden geladen.\n"
     ]
    }
   ],
   "source": [
    "ids, channels, data, sampling_frequencies, reference_systems, eeg_labels = load_references(training_folder) "
   ]
  },
  {
   "cell_type": "code",
   "execution_count": 61,
   "id": "a44ad2f2-c72a-4afa-93dc-a92289b4b210",
   "metadata": {},
   "outputs": [
    {
     "name": "stdout",
     "output_type": "stream",
     "text": [
      "IDs[0:3]:  ['aaaaaqvr_s001_t001', 'aaaaaqvr_s002_t000', 'aaaaaqvr_s002_t001']\n",
      "Verfügbare Kanäle: ['Fp1', 'Fp2', 'F3', 'F4', 'C3', 'C4', 'P3', 'P4', 'O1', 'O2', 'F7', 'F8', 'T3', 'T4', 'T5', 'T6', 'Fz', 'Cz', 'Pz']\n",
      "Abtastrate:  256 Hz\n",
      "Referenzsystem:  AR\n",
      "EEG Labels: (seizure_present, onset, offset) (0, 0.0, 0.0)\n"
     ]
    }
   ],
   "source": [
    "idx_record = 80\n",
    "print(\"IDs[0:3]: \",ids[:3])\n",
    "print(\"Verfügbare Kanäle:\",channels[idx_record])\n",
    "print(\"Abtastrate: \", sampling_frequencies[idx_record],\"Hz\")\n",
    "print(\"Referenzsystem: \", reference_systems[idx_record])\n",
    "print(\"EEG Labels: (seizure_present, onset, offset)\", eeg_labels[idx_record])"
   ]
  },
  {
   "cell_type": "code",
   "execution_count": 62,
   "id": "0086d286-ee43-411c-9677-7f88508e65c2",
   "metadata": {},
   "outputs": [
    {
     "name": "stdout",
     "output_type": "stream",
     "text": [
      "Anzahl der Aufnahmen: 1018\n",
      "Beispiel-IDs: ['aaaaaqvr_s001_t001', 'aaaaaqvr_s002_t000', 'aaaaaqvr_s002_t001']\n",
      "Beispiel-Kanäle für eine Aufnahme: ['Fp1', 'Fp2', 'F3', 'F4', 'C3', 'C4', 'P3', 'P4', 'O1', 'O2', 'F7', 'F8', 'T3', 'T4', 'T5', 'T6', 'Fz', 'Cz', 'Pz']\n",
      "Beispiel-Abtastrate: 256\n",
      "Beispiel-Referenzsystem: AR\n",
      "Beispiel-EEG Label: (0, 0.0, 0.0)\n"
     ]
    }
   ],
   "source": [
    "print(\"Anzahl der Aufnahmen:\", len(ids))\n",
    "print(\"Beispiel-IDs:\", ids[:3])\n",
    "print(\"Beispiel-Kanäle für eine Aufnahme:\", channels[0])\n",
    "print(\"Beispiel-Abtastrate:\", sampling_frequencies[0])\n",
    "print(\"Beispiel-Referenzsystem:\", reference_systems[0])\n",
    "print(\"Beispiel-EEG Label:\", eeg_labels[0])\n"
   ]
  },
  {
   "cell_type": "code",
   "execution_count": 63,
   "id": "8fa8aa2b-6c35-46d9-90ad-1da183187efd",
   "metadata": {},
   "outputs": [
    {
     "name": "stdout",
     "output_type": "stream",
     "text": [
      "Kanäle für Aufnahme 0 : ['Fp1', 'Fp2', 'F3', 'F4', 'C3', 'C4', 'P3', 'P4', 'O1', 'O2', 'F7', 'F8', 'T3', 'T4', 'T5', 'T6', 'Fz', 'Cz', 'Pz']\n",
      "Abtastrate für Aufnahme 0 : 256 Hz\n",
      "EEG-Daten-Dimension für Aufnahme 0 : (19, 323328)\n"
     ]
    }
   ],
   "source": [
    "idx_record = 0 # oder ein anderer Index Ihrer Wahl\n",
    "print(\"Kanäle für Aufnahme\", idx_record, \":\", channels[idx_record])\n",
    "print(\"Abtastrate für Aufnahme\", idx_record, \":\", sampling_frequencies[idx_record], \"Hz\")\n",
    "print(\"EEG-Daten-Dimension für Aufnahme\", idx_record, \":\", data[idx_record].shape)\n"
   ]
  },
  {
   "cell_type": "code",
   "execution_count": 64,
   "id": "b079f20b-ef6a-4488-a5f9-2e0d8a46fc00",
   "metadata": {},
   "outputs": [
    {
     "data": {
      "image/png": "[encoded data removed]",
      "text/plain": [
       "<Figure size 432x288 with 1 Axes>"
      ]
     },
     "metadata": {
      "needs_background": "light"
     },
     "output_type": "display_data"
    }
   ],
   "source": [
    "import matplotlib.pyplot as plt\n",
    "\n",
    "plt.plot(data[idx_record][0, :]) # Erster Kanal der gewählten Aufnahme\n",
    "plt.title(f\"EEG-Signal des Kanals {channels[idx_record][0]}\")\n",
    "plt.xlabel(\"Zeitpunkte\")\n",
    "plt.ylabel(\"Amplitude\")\n",
    "plt.show()\n"
   ]
  },
  {
   "cell_type": "code",
   "execution_count": 65,
   "id": "88b89c39-e628-4535-8d99-002d71563f8b",
   "metadata": {},
   "outputs": [
    {
     "data": {
      "image/png": "[encoded data removed]",
      "text/plain": [
       "<Figure size 432x288 with 1 Axes>"
      ]
     },
     "metadata": {
      "needs_background": "light"
     },
     "output_type": "display_data"
    }
   ],
   "source": [
    "plt.hist(sampling_frequencies, bins=20)\n",
    "plt.title(\"Verteilung der Abtastraten\")\n",
    "plt.xlabel(\"Abtastrate (Hz)\")\n",
    "plt.ylabel(\"Anzahl der Aufnahmen\")\n",
    "plt.show()\n"
   ]
  },
  {
   "cell_type": "code",
   "execution_count": 66,
   "id": "e7489ada-0d99-4c84-b938-96c8782902e5",
   "metadata": {},
   "outputs": [
    {
     "name": "stdout",
     "output_type": "stream",
     "text": [
      "Fehlende Daten vorhanden: False\n"
     ]
    }
   ],
   "source": [
    "missing_data = any(d is None for d in data)\n",
    "print(\"Fehlende Daten vorhanden:\", missing_data)\n"
   ]
  },
  {
   "cell_type": "code",
   "execution_count": 67,
   "id": "f3720fd4-f975-4564-9179-d12b97b2974f",
   "metadata": {},
   "outputs": [
    {
     "name": "stdout",
     "output_type": "stream",
     "text": [
      "Anzahl der Aufnahmen mit Anfällen: 407\n"
     ]
    }
   ],
   "source": [
    "seizures_present = [label[0] for label in eeg_labels]\n",
    "print(\"Anzahl der Aufnahmen mit Anfällen:\", sum(seizures_present))\n"
   ]
  },
  {
   "cell_type": "code",
   "execution_count": 68,
   "id": "488ff85b-b005-425f-8748-fd6f00856a1d",
   "metadata": {},
   "outputs": [
    {
     "name": "stdout",
     "output_type": "stream",
     "text": [
      "Datentyp von 'data': <class 'list'>\n",
      "Struktur der EEG-Daten: <class 'numpy.ndarray'>\n"
     ]
    }
   ],
   "source": [
    "print(\"Datentyp von 'data':\", type(data))\n",
    "print(\"Struktur der EEG-Daten:\", type(data[0]))\n"
   ]
  },
  {
   "cell_type": "code",
   "execution_count": 69,
   "id": "4d7c968f-5afe-4db8-8f5d-5455580c8b78",
   "metadata": {},
   "outputs": [
    {
     "name": "stdout",
     "output_type": "stream",
     "text": [
      "Dimensionen der formatierten Daten: (1018, 3, 400)\n",
      "Die Daten haben das erwartete Format.\n"
     ]
    }
   ],
   "source": [
    "import numpy as np\n",
    "import torch\n",
    "from torch.utils.data import Dataset, DataLoader\n",
    "\n",
    "# Angenommen, Sie haben Ihre Daten bereits geladen:\n",
    "# ids, channels, data, sampling_frequencies, reference_systems, eeg_labels = load_references(training_folder)\n",
    "\n",
    "# Konvertieren der EEG-Daten in das erforderliche Format\n",
    "def prepare_data(data, channels, time_steps=400):\n",
    "    num_records = len(data)\n",
    "    formatted_data = np.empty((num_records, 3, time_steps)) # [Anzahl der Beispiele, 3 Kanäle, Zeitpunkte]\n",
    "\n",
    "    for i in range(num_records):\n",
    "        montages, montage_data, _ = get_3montages(channels[i], data[i])\n",
    "        montage_data_resized = montage_data[:, :time_steps] if montage_data.shape[1] > time_steps else np.pad(montage_data, ((0,0), (0, time_steps - montage_data.shape[1])), 'constant')\n",
    "        formatted_data[i] = montage_data_resized\n",
    "\n",
    "    return formatted_data\n",
    "\n",
    "# Vorbereiten der Daten\n",
    "formatted_data = prepare_data(data, channels)\n",
    "\n",
    "# Überprüfen der Dimensionen der formatierten Daten\n",
    "print(\"Dimensionen der formatierten Daten:\", formatted_data.shape)\n",
    "\n",
    "# Stellen Sie sicher, dass die Dimensionen [num_records, 3, time_steps] sind\n",
    "expected_shape = (len(data), 3, 400)  # 400 ist ein Beispiel für time_steps\n",
    "if formatted_data.shape == expected_shape:\n",
    "    print(\"Die Daten haben das erwartete Format.\")\n",
    "else:\n",
    "    print(f\"Unerwartetes Format. Erwartet: {expected_shape}, Erhalten: {formatted_data.shape}\")"
   ]
  },
  {
   "cell_type": "code",
   "execution_count": 70,
   "id": "53192664-6716-4bf1-bcf1-a989d9a5fff2",
   "metadata": {},
   "outputs": [
    {
     "name": "stdout",
     "output_type": "stream",
     "text": [
      "EEGNet(\n",
      "  (conv1): Conv1d(3, 32, kernel_size=(3,), stride=(1,), padding=(1,))\n",
      "  (conv2): Conv1d(32, 64, kernel_size=(3,), stride=(1,), padding=(1,))\n",
      "  (pool): MaxPool1d(kernel_size=2, stride=2, padding=0, dilation=1, ceil_mode=False)\n",
      "  (fc1): Linear(in_features=6400, out_features=128, bias=True)\n",
      "  (fc2): Linear(in_features=128, out_features=1, bias=True)\n",
      ")\n"
     ]
    }
   ],
   "source": [
    "import torch.nn as nn\n",
    "import torch.nn.functional as F\n",
    "\n",
    "class EEGNet(nn.Module):\n",
    "    def __init__(self, num_channels=3, time_steps=400):\n",
    "        super(EEGNet, self).__init__()\n",
    "        # 1D Convolutional Layer\n",
    "        self.conv1 = nn.Conv1d(in_channels=num_channels, out_channels=32, kernel_size=3, stride=1, padding=1)\n",
    "        self.conv2 = nn.Conv1d(in_channels=32, out_channels=64, kernel_size=3, stride=1, padding=1)\n",
    "        \n",
    "        # Max Pooling Layer\n",
    "        self.pool = nn.MaxPool1d(kernel_size=2, stride=2, padding=0)\n",
    "        \n",
    "        # Anpassen der Feature-Map-Größe nach Pooling\n",
    "        reduced_size = time_steps // 4  # angenommen, zweimaliges Pooling halbiert die Größe jedes Mal\n",
    "        self.fc1 = nn.Linear(64 * reduced_size, 128)\n",
    "        self.fc2 = nn.Linear(128, 1)\n",
    "\n",
    "    def forward(self, x):\n",
    "        x = self.pool(F.relu(self.conv1(x)))\n",
    "        x = self.pool(F.relu(self.conv2(x)))\n",
    "        \n",
    "        # Flatten der Ausgabe für die Linear Layers\n",
    "        x = x.view(x.size(0), -1)\n",
    "        \n",
    "        x = F.relu(self.fc1(x))\n",
    "        x = torch.sigmoid(self.fc2(x))\n",
    "        return x\n",
    "\n",
    "model = EEGNet(num_channels=3, time_steps=400)\n",
    "print(model)\n"
   ]
  },
  {
   "cell_type": "code",
   "execution_count": 71,
   "id": "7f3ac71e-7d49-487c-9bce-04c890d7daa0",
   "metadata": {},
   "outputs": [
    {
     "name": "stdout",
     "output_type": "stream",
     "text": [
      "Epoch 1/20, Loss: 0.7001, F1-Score: 0.5714\n",
      "Epoch 2/20, Loss: 0.7012, F1-Score: 0.5714\n",
      "Epoch 3/20, Loss: 0.7034, F1-Score: 0.5714\n",
      "Epoch 4/20, Loss: 0.7012, F1-Score: 0.5714\n",
      "Epoch 5/20, Loss: 0.7018, F1-Score: 0.5714\n",
      "Epoch 6/20, Loss: 0.7012, F1-Score: 0.5714\n",
      "Epoch 7/20, Loss: 0.7023, F1-Score: 0.5714\n",
      "Epoch 8/20, Loss: 0.7012, F1-Score: 0.5714\n",
      "Epoch 9/20, Loss: 0.7001, F1-Score: 0.5714\n",
      "Epoch 10/20, Loss: 0.7012, F1-Score: 0.5714\n",
      "Epoch 11/20, Loss: 0.7018, F1-Score: 0.5714\n",
      "Epoch 12/20, Loss: 0.7023, F1-Score: 0.5714\n",
      "Epoch 13/20, Loss: 0.7007, F1-Score: 0.5714\n",
      "Epoch 14/20, Loss: 0.7023, F1-Score: 0.5714\n",
      "Epoch 15/20, Loss: 0.7001, F1-Score: 0.5714\n",
      "Epoch 16/20, Loss: 0.7018, F1-Score: 0.5714\n",
      "Epoch 17/20, Loss: 0.7001, F1-Score: 0.5714\n",
      "Epoch 18/20, Loss: 0.6996, F1-Score: 0.5714\n",
      "Epoch 19/20, Loss: 0.7012, F1-Score: 0.5714\n",
      "Epoch 20/20, Loss: 0.7023, F1-Score: 0.5714\n"
     ]
    },
    {
     "data": {
      "text/plain": [
       "<All keys matched successfully>"
      ]
     },
     "execution_count": 71,
     "metadata": {},
     "output_type": "execute_result"
    }
   ],
   "source": [
    "import torch\n",
    "import torch.nn as nn\n",
    "import torch.optim as optim\n",
    "from sklearn.model_selection import train_test_split\n",
    "from torch.utils.data import Dataset, DataLoader\n",
    "from sklearn.metrics import f1_score\n",
    "\n",
    "best_f1 = 0.0  # Initialisieren Sie den besten F1-Score mit 0\n",
    "best_model = None  # Variable zum Speichern des besten Modells\n",
    "\n",
    "num_epochs = 20\n",
    "\n",
    "for epoch in range(num_epochs):\n",
    "    model.train()\n",
    "    train_loss = 0.0\n",
    "\n",
    "    for inputs, labels in train_loader:\n",
    "        optimizer.zero_grad()\n",
    "        outputs = model(inputs)\n",
    "        loss = criterion(outputs.squeeze(), labels)\n",
    "        loss.backward()\n",
    "        optimizer.step()\n",
    "        train_loss += loss.item()\n",
    "\n",
    "    train_loss /= len(train_loader)\n",
    "\n",
    "    # Validierung und Berechnung des F1-Scores\n",
    "    model.eval()\n",
    "    all_predictions = []\n",
    "    all_labels = []\n",
    "    with torch.no_grad():\n",
    "        for inputs, labels in test_loader:\n",
    "            outputs = model(inputs)\n",
    "            predicted = outputs.squeeze().round()\n",
    "            all_predictions.extend(predicted.tolist())\n",
    "            all_labels.extend(labels.tolist())\n",
    "\n",
    "    epoch_f1 = f1_score(all_labels, all_predictions)\n",
    "    if epoch_f1 > best_f1:\n",
    "        best_f1 = epoch_f1\n",
    "        best_model = model.state_dict()  # Speichern des besten Modells\n",
    "\n",
    "    print(f'Epoch {epoch+1}/{num_epochs}, Loss: {train_loss:.4f}, F1-Score: {epoch_f1:.4f}')\n",
    "\n",
    "# Laden des besten Modells nach dem Training\n",
    "model.load_state_dict(best_model)\n"
   ]
  },
  {
   "cell_type": "code",
   "execution_count": 72,
   "id": "02bd3591-af42-476c-9261-1454cae2e2eb",
   "metadata": {},
   "outputs": [
    {
     "name": "stdout",
     "output_type": "stream",
     "text": [
      "Epoch 1/20, Loss: 0.7023, F1-Score: 0.5714\n",
      "Epoch 2/20, Loss: 0.6996, F1-Score: 0.5714\n",
      "Epoch 3/20, Loss: 0.7012, F1-Score: 0.5714\n",
      "Epoch 4/20, Loss: 0.7018, F1-Score: 0.5714\n",
      "Epoch 5/20, Loss: 0.7007, F1-Score: 0.5714\n",
      "Epoch 6/20, Loss: 0.7023, F1-Score: 0.5714\n",
      "Epoch 7/20, Loss: 0.7023, F1-Score: 0.5714\n",
      "Epoch 8/20, Loss: 0.7023, F1-Score: 0.5714\n",
      "Epoch 9/20, Loss: 0.7012, F1-Score: 0.5714\n",
      "Epoch 10/20, Loss: 0.7018, F1-Score: 0.5714\n",
      "Epoch 11/20, Loss: 0.7018, F1-Score: 0.5714\n",
      "Epoch 12/20, Loss: 0.7023, F1-Score: 0.5714\n",
      "Epoch 13/20, Loss: 0.7012, F1-Score: 0.5714\n",
      "Epoch 14/20, Loss: 0.7012, F1-Score: 0.5714\n",
      "Epoch 15/20, Loss: 0.7001, F1-Score: 0.5714\n",
      "Epoch 16/20, Loss: 0.7018, F1-Score: 0.5714\n",
      "Epoch 17/20, Loss: 0.7012, F1-Score: 0.5714\n",
      "Epoch 18/20, Loss: 0.7001, F1-Score: 0.5714\n",
      "Epoch 19/20, Loss: 0.7001, F1-Score: 0.5714\n",
      "Epoch 20/20, Loss: 0.7012, F1-Score: 0.5714\n"
     ]
    },
    {
     "data": {
      "text/plain": [
       "<All keys matched successfully>"
      ]
     },
     "execution_count": 72,
     "metadata": {},
     "output_type": "execute_result"
    }
   ],
   "source": [
    "import torch\n",
    "import torch.nn as nn\n",
    "import torch.optim as optim\n",
    "from sklearn.model_selection import train_test_split\n",
    "from torch.utils.data import Dataset, DataLoader\n",
    "from sklearn.metrics import f1_score\n",
    "\n",
    "best_f1 = 0.0\n",
    "best_model = model.state_dict()  # Initialisierung mit dem Anfangszustand des Modells\n",
    "\n",
    "num_epochs = 20\n",
    "\n",
    "for epoch in range(num_epochs):\n",
    "    model.train()\n",
    "    train_loss = 0.0\n",
    "\n",
    "    for inputs, labels in train_loader:\n",
    "        optimizer.zero_grad()\n",
    "        outputs = model(inputs)\n",
    "        loss = criterion(outputs.squeeze(), labels.squeeze())  # Stellen Sie sicher, dass beide eindimensional sind\n",
    "        loss.backward()\n",
    "        optimizer.step()\n",
    "        train_loss += loss.item()\n",
    "\n",
    "    train_loss /= len(train_loader)\n",
    "\n",
    "    # Validierung und Berechnung des F1-Scores\n",
    "    model.eval()\n",
    "    all_predictions = []\n",
    "    all_labels = []\n",
    "    with torch.no_grad():\n",
    "        for inputs, labels in test_loader:\n",
    "            outputs = model(inputs)\n",
    "            predicted = outputs.squeeze().round()  # Squeeze und Round für binäre Klassifikation\n",
    "            all_predictions.extend(predicted.tolist())\n",
    "            all_labels.extend(labels.squeeze().tolist())  # Stellen Sie sicher, dass die Labels eindimensional sind\n",
    "\n",
    "    epoch_f1 = f1_score(all_labels, all_predictions)\n",
    "    if epoch_f1 > best_f1:\n",
    "        best_f1 = epoch_f1\n",
    "        best_model = model.state_dict()\n",
    "\n",
    "    print(f'Epoch {epoch+1}/{num_epochs}, Loss: {train_loss:.4f}, F1-Score: {epoch_f1:.4f}')\n",
    "\n",
    "# Laden des besten Modells nach dem Training\n",
    "model.load_state_dict(best_model)\n"
   ]
  },
  {
   "cell_type": "code",
   "execution_count": null,
   "id": "09f89ce6-0b38-4395-9b3d-dd12d0fb02aa",
   "metadata": {},
   "outputs": [],
   "source": []
  }
 ],
 "metadata": {
  "kernelspec": {
   "display_name": "Python [conda env:pytorch]",
   "language": "python",
   "name": "conda-env-pytorch-py"
  },
  "language_info": {
   "codemirror_mode": {
    "name": "ipython",
    "version": 3
   },
   "file_extension": ".py",
   "mimetype": "text/x-python",
   "name": "python",
   "nbconvert_exporter": "python",
   "pygments_lexer": "ipython3",
   "version": "3.8.13"
  }
 },
 "nbformat": 4,
 "nbformat_minor": 5
}
