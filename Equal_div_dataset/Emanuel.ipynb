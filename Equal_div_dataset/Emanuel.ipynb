{
 "cells": [
  {
   "cell_type": "code",
   "execution_count": 1,
   "id": "f38ac30a-e7f4-4585-a37d-7ee04440e83e",
   "metadata": {},
   "outputs": [],
   "source": [
    "import csv\n",
    "import matplotlib.pyplot as plt\n",
    "import numpy as np\n",
    "import os\n",
    "from wettbewerb import load_references, get_3montages\n",
    "import mne\n",
    "from scipy import signal as sig\n",
    "import ruptures as rpt\n",
    "import json\n",
    "import pywt\n",
    "from sklearn.model_selection import KFold, cross_val_score\n",
    "from sklearn.ensemble import RandomForestClassifier\n",
    "from sklearn.metrics import accuracy_score\n",
    "import joblib\n",
    "from sklearn.model_selection import StratifiedKFold\n",
    "from sklearn.metrics import roc_curve, auc\n",
    "import pandas as pd\n",
    "from sklearn.preprocessing import StandardScaler\n",
    "from sklearn.model_selection import GridSearchCV"
   ]
  },
  {
   "cell_type": "code",
   "execution_count": 2,
   "id": "794dcbaf-2e23-43af-82c6-fc3cd4b47be0",
   "metadata": {},
   "outputs": [],
   "source": [
    "training_folder = \"../../shared_data/training_mini\""
   ]
  },
  {
   "cell_type": "code",
   "execution_count": 3,
   "id": "24859489-9838-48be-bd1e-d1a694cd2485",
   "metadata": {},
   "outputs": [
    {
     "name": "stdout",
     "output_type": "stream",
     "text": [
      "100\t Dateien wurden geladen.\n"
     ]
    }
   ],
   "source": [
    "ids, channels, data, sampling_frequencies, reference_systems, eeg_labels = load_references(training_folder) \n",
    "# Importiere EKG-Dateien, zugehörige Diagnose, Sampling-Frequenz (Hz) und Name (meist fs=256 Hz)"
   ]
  },
  {
   "cell_type": "code",
   "execution_count": 4,
   "id": "675cfdfe-1495-47be-af63-1c22f94f9db8",
   "metadata": {},
   "outputs": [],
   "source": [
    "N_samples = 2000 # Numeber of samples per division\n",
    "# Decompose the wave\n",
    "wavelet = 'db4'\n",
    "scaler = StandardScaler()\n",
    "normalization = True\n",
    "features = []\n",
    "for i,_id in enumerate(ids):\n",
    "    montage, montage_data, is_missing = get_3montages(channels[i], data[i])\n",
    "    N_div = len(montage_data[0])//N_samples\n",
    "    \n",
    "    # Normalizing data\n",
    "    if normalization:\n",
    "        norm_montage0_data = scaler.fit_transform(montage_data[0].reshape(-1,1)).reshape(1,-1)[0]\n",
    "        norm_montage1_data = scaler.fit_transform(montage_data[1].reshape(-1,1)).reshape(1,-1)[0]\n",
    "        norm_montage2_data = scaler.fit_transform(montage_data[2].reshape(-1,1)).reshape(1,-1)[0]\n",
    "    else:\n",
    "        norm_montage0_data = montage_data[0]\n",
    "        norm_montage1_data = montage_data[1]\n",
    "        norm_montage2_data = montage_data[2]\n",
    "    \n",
    "    for i in range(N_div):\n",
    "        features_per_div = np.zeros((15))\n",
    "        montage0_array = norm_montage0_data[i*N_samples:(i+1)*N_samples]\n",
    "        montage1_array = norm_montage1_data[i*N_samples:(i+1)*N_samples]\n",
    "        montage2_array = norm_montage2_data[i*N_samples:(i+1)*N_samples]\n",
    "        ca4, cd4, cd3, cd2, cd1 = pywt.wavedec(montage0_array, wavelet, level=4)\n",
    "        montage0_dwt = [ca4, cd4, cd3, cd2, cd1]\n",
    "        ca4, cd4, cd3, cd2, cd1 = pywt.wavedec(montage1_array, wavelet, level=4)\n",
    "        montage1_dwt = [ca4, cd4, cd3, cd2, cd1]\n",
    "        ca4, cd4, cd3, cd2, cd1 = pywt.wavedec(montage2_array, wavelet, level=4)\n",
    "        montage2_dwt = [ca4, cd4, cd3, cd2, cd1]\n",
    "        for w in range(len(montage0_dwt)):\n",
    "            features_per_div[w] = np.sum(np.abs(np.diff(montage0_dwt[w])))/len(montage0_dwt[w]) \n",
    "            features_per_div[5+w] = np.sum(np.abs(np.diff(montage1_dwt[w])))/len(montage1_dwt[w])\n",
    "            features_per_div[10+w] = np.sum(np.abs(np.diff(montage2_dwt[w])))/len(montage2_dwt[w])\n",
    "        features.append(features_per_div)\n",
    "\n",
    "\n"
   ]
  },
  {
   "cell_type": "code",
   "execution_count": 5,
   "id": "5bb7dec5-4b48-40a9-aabf-a1fcdcebd136",
   "metadata": {
    "tags": []
   },
   "outputs": [],
   "source": [
    "labels = []\n",
    "for i,_id in enumerate(ids):\n",
    "    if eeg_labels[i][0]:\n",
    "        onset = eeg_labels[i][1]\n",
    "        offset = eeg_labels[i][2]\n",
    "        sample_freq = sampling_frequencies[i]\n",
    "        total_time = len(data[i][1])/sample_freq\n",
    "        N_div = len(data[i][1])//N_samples\n",
    "        for num in range(N_div):\n",
    "            if (((total_time/N_div)*(num) <= onset) and ((total_time/N_div)*(num+1) > onset)) or (((total_time/N_div)*(num) >= onset) and ((total_time/N_div)*(num) < offset)):\n",
    "                labels.append([1])\n",
    "            else:\n",
    "                labels.append([0])\n",
    "    else:\n",
    "        N_div = len(data[i][1])//N_samples\n",
    "        for num in range(N_div):\n",
    "            labels.append([0])\n",
    "labels = np.reshape(labels, (1,-1))[0]\n",
    "        "
   ]
  },
  {
   "cell_type": "code",
   "execution_count": 16,
   "id": "f5085be1-d854-4666-a005-680d9b02ae14",
   "metadata": {},
   "outputs": [],
   "source": [
    "param_grid = {\n",
    "    'n_estimators': [300, 500],\n",
    "    'max_depth': [8,15],\n",
    "    'min_samples_leaf': [1, 2]\n",
    "}"
   ]
  },
  {
   "cell_type": "code",
   "execution_count": 17,
   "id": "c0a7c73c-f06e-4335-9172-33902e713268",
   "metadata": {},
   "outputs": [],
   "source": [
    "kf = KFold(n_splits=4, shuffle=True, random_state=42)\n",
    "grid_search = GridSearchCV(estimator=RandomForestClassifier(), param_grid=param_grid, scoring='accuracy', cv=kf)"
   ]
  },
  {
   "cell_type": "code",
   "execution_count": 18,
   "id": "17f1a55e-b1d2-4195-9ad6-f6e6880672fe",
   "metadata": {},
   "outputs": [
    {
     "data": {
      "text/plain": [
       "GridSearchCV(cv=KFold(n_splits=4, random_state=42, shuffle=True),\n",
       "             estimator=RandomForestClassifier(),\n",
       "             param_grid={'max_depth': [8, 15], 'min_samples_leaf': [1, 2],\n",
       "                         'n_estimators': [300, 500]},\n",
       "             scoring='accuracy')"
      ]
     },
     "execution_count": 18,
     "metadata": {},
     "output_type": "execute_result"
    }
   ],
   "source": [
    "grid_search.fit(features,labels)"
   ]
  },
  {
   "cell_type": "code",
   "execution_count": 19,
   "id": "f24f4d0a-d5aa-4149-813b-c1a958b5215c",
   "metadata": {},
   "outputs": [
    {
     "name": "stdout",
     "output_type": "stream",
     "text": [
      "{'max_depth': 15, 'min_samples_leaf': 1, 'n_estimators': 300}\n"
     ]
    }
   ],
   "source": [
    "print(grid_search.best_params_)"
   ]
  },
  {
   "cell_type": "code",
   "execution_count": 9,
   "id": "81e1be2c-1afc-4288-a319-b874dd9be659",
   "metadata": {},
   "outputs": [
    {
     "name": "stdout",
     "output_type": "stream",
     "text": [
      "Accuracy scores: [0.968      0.97317647 0.97316384 0.96986817]\n",
      "Mean accuracy: 0.9710521214135371\n"
     ]
    }
   ],
   "source": [
    "print(\"Accuracy scores:\", scores)\n",
    "print(\"Mean accuracy:\", scores.mean())"
   ]
  },
  {
   "cell_type": "code",
   "execution_count": 37,
   "id": "ddae757b-6ad1-4996-aea1-298a3f731ed4",
   "metadata": {},
   "outputs": [],
   "source": [
    "rf_classifier = rf = RandomForestClassifier(\n",
    "    n_estimators=500,  # Number of trees in the forest\n",
    "    max_features=\"sqrt\",  # Number of features to consider at each split\n",
    "    max_depth=8,  # Maximum depth of each tree\n",
    "    min_samples_leaf=4,  # Minimum number of samples required to be at a leaf node\n",
    ")"
   ]
  },
  {
   "cell_type": "code",
   "execution_count": 53,
   "id": "d168c0f3-054d-4448-816f-b5ce28eba962",
   "metadata": {
    "tags": []
   },
   "outputs": [
    {
     "name": "stdout",
     "output_type": "stream",
     "text": [
      "Accuracy scores: [0.96597243 0.97124413 0.97329812 0.97388498 0.967723  ]\n",
      "Mean accuracy: 0.9704245321346283\n"
     ]
    }
   ],
   "source": [
    "kf = KFold(n_splits=5, shuffle=True, random_state=42)\n",
    "scores = cross_val_score(rf_classifier, features, labels, cv=kf, scoring=\"accuracy\")  # Replace rf with your model\n",
    "print(\"Accuracy scores:\", scores)\n",
    "print(\"Mean accuracy:\", scores.mean())"
   ]
  },
  {
   "cell_type": "code",
   "execution_count": null,
   "id": "4f0c6b41-c7e3-4415-86d3-0cf1148f5f28",
   "metadata": {},
   "outputs": [],
   "source": []
  },
  {
   "cell_type": "code",
   "execution_count": null,
   "id": "2712ed62-7f8e-43fc-b948-9098be6b165c",
   "metadata": {},
   "outputs": [],
   "source": [
    "rf_classifier.fit(features, labels)"
   ]
  }
 ],
 "metadata": {
  "kernelspec": {
   "display_name": "Python 3 (ipykernel)",
   "language": "python",
   "name": "python3"
  },
  "language_info": {
   "codemirror_mode": {
    "name": "ipython",
    "version": 3
   },
   "file_extension": ".py",
   "mimetype": "text/x-python",
   "name": "python",
   "nbconvert_exporter": "python",
   "pygments_lexer": "ipython3",
   "version": "3.9.12"
  }
 },
 "nbformat": 4,
 "nbformat_minor": 5
}
