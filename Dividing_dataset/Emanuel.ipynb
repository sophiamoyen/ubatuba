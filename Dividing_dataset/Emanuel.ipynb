{
 "cells": [
  {
   "cell_type": "code",
   "execution_count": 1,
   "id": "f38ac30a-e7f4-4585-a37d-7ee04440e83e",
   "metadata": {},
   "outputs": [],
   "source": [
    "import csv\n",
    "import matplotlib.pyplot as plt\n",
    "import numpy as np\n",
    "import os\n",
    "from wettbewerb import load_references, get_3montages\n",
    "import mne\n",
    "from scipy import signal as sig\n",
    "import ruptures as rpt\n",
    "import json\n",
    "import pywt\n",
    "from sklearn.model_selection import KFold, cross_val_score\n",
    "from sklearn.ensemble import RandomForestClassifier\n",
    "from sklearn.metrics import accuracy_score\n",
    "import joblib\n",
    "from sklearn.model_selection import StratifiedKFold\n",
    "from sklearn.metrics import roc_curve, auc\n",
    "import pandas as pd"
   ]
  },
  {
   "cell_type": "code",
   "execution_count": 2,
   "id": "794dcbaf-2e23-43af-82c6-fc3cd4b47be0",
   "metadata": {},
   "outputs": [],
   "source": [
    "training_folder = \"../../shared_data/training_mini\""
   ]
  },
  {
   "cell_type": "code",
   "execution_count": 3,
   "id": "24859489-9838-48be-bd1e-d1a694cd2485",
   "metadata": {},
   "outputs": [
    {
     "name": "stdout",
     "output_type": "stream",
     "text": [
      "100\t Dateien wurden geladen.\n"
     ]
    }
   ],
   "source": [
    "ids, channels, data, sampling_frequencies, reference_systems, eeg_labels = load_references(training_folder) \n",
    "# Importiere EKG-Dateien, zugehörige Diagnose, Sampling-Frequenz (Hz) und Name (meist fs=256 Hz)"
   ]
  },
  {
   "cell_type": "code",
   "execution_count": 67,
   "id": "675cfdfe-1495-47be-af63-1c22f94f9db8",
   "metadata": {},
   "outputs": [],
   "source": [
    "N_div = 25 # Numeber of subdivisions\n",
    "# Decompose the wave\n",
    "wavelet = 'db4'\n",
    "features = np.zeros((len(ids)*N_div,15))\n",
    "for i,_id in enumerate(ids):\n",
    "    montage, montage_data, is_missing = get_3montages(channels[i], data[i])\n",
    "    montage1_array = np.zeros((N_div,5))\n",
    "    montage2_array = np.zeros((N_div,5))\n",
    "    montage3_array = np.zeros((N_div,5))\n",
    "    montage_array = [montage1_array,montage2_array,montage3_array]\n",
    "    for j, signal_name in enumerate(montage):\n",
    "        montage_divided = np.array_split(montage_data[j],N_div)\n",
    "        for y in range(N_div):\n",
    "            ca4, cd4, cd3, cd2, cd1 = pywt.wavedec(montage_divided[y], wavelet, level=4)\n",
    "            dwt_array = [ca4, cd4, cd3, cd2, cd1]\n",
    "            for w in range(len(dwt_array)):\n",
    "                montage_array[j][y][w] = np.sum(np.abs(np.diff(dwt_array[w])))/len(dwt_array[w])  \n",
    "    for k in range(N_div):\n",
    "        features[k+(i*N_div)][0:5] = montage_array[0][k]\n",
    "        features[k+(i*N_div)][5:10] = montage_array[1][k]\n",
    "        features[k+(i*N_div)][10:15] = montage_array[2][k]\n",
    "\n",
    "\n"
   ]
  },
  {
   "cell_type": "code",
   "execution_count": 68,
   "id": "5bb7dec5-4b48-40a9-aabf-a1fcdcebd136",
   "metadata": {},
   "outputs": [],
   "source": [
    "labels = np.zeros((len(eeg_labels)*N_div))\n",
    "for i,_id in enumerate(ids):\n",
    "    if eeg_labels[i][0]:\n",
    "        onset = eeg_labels[i][1]\n",
    "        offset = eeg_labels[i][2]\n",
    "        sample_freq = sampling_frequencies[i]\n",
    "        total_time = len(data[i][1])/sample_freq\n",
    "        for num in range(N_div):\n",
    "            if (((total_time/N_div)*(num) <= onset) and ((total_time/N_div)*(num+1) > onset)) or (((total_time/N_div)*(num) >= onset) and ((total_time/N_div)*(num) < offset)):\n",
    "                labels[i*N_div+num] = 1"
   ]
  },
  {
   "cell_type": "code",
   "execution_count": 69,
   "id": "ddae757b-6ad1-4996-aea1-298a3f731ed4",
   "metadata": {},
   "outputs": [],
   "source": [
    "rf_classifier = rf = RandomForestClassifier(\n",
    "    n_estimators=500,  # Number of trees in the forest\n",
    "    max_features=\"sqrt\",  # Number of features to consider at each split\n",
    "    max_depth=8,  # Maximum depth of each tree\n",
    "    min_samples_leaf=4,  # Minimum number of samples required to be at a leaf node\n",
    ")"
   ]
  },
  {
   "cell_type": "code",
   "execution_count": 70,
   "id": "d168c0f3-054d-4448-816f-b5ce28eba962",
   "metadata": {},
   "outputs": [
    {
     "name": "stdout",
     "output_type": "stream",
     "text": [
      "Accuracy scores: [0.944 0.936 0.936 0.944 0.934]\n",
      "Mean accuracy: 0.9388\n"
     ]
    }
   ],
   "source": [
    "kf = KFold(n_splits=5, shuffle=True, random_state=42)\n",
    "scores = cross_val_score(rf_classifier, features, labels, cv=kf, scoring=\"accuracy\")  # Replace rf with your model\n",
    "print(\"Accuracy scores:\", scores)\n",
    "print(\"Mean accuracy:\", scores.mean())"
   ]
  },
  {
   "cell_type": "code",
   "execution_count": null,
   "id": "4f0c6b41-c7e3-4415-86d3-0cf1148f5f28",
   "metadata": {},
   "outputs": [],
   "source": []
  },
  {
   "cell_type": "code",
   "execution_count": null,
   "id": "2712ed62-7f8e-43fc-b948-9098be6b165c",
   "metadata": {},
   "outputs": [],
   "source": [
    "rf_classifier.fit(features, labels)"
   ]
  }
 ],
 "metadata": {
  "kernelspec": {
   "display_name": "Python 3 (ipykernel)",
   "language": "python",
   "name": "python3"
  },
  "language_info": {
   "codemirror_mode": {
    "name": "ipython",
    "version": 3
   },
   "file_extension": ".py",
   "mimetype": "text/x-python",
   "name": "python",
   "nbconvert_exporter": "python",
   "pygments_lexer": "ipython3",
   "version": "3.9.12"
  }
 },
 "nbformat": 4,
 "nbformat_minor": 5
}
