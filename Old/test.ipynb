{
 "cells": [
  {
   "cell_type": "code",
   "execution_count": 16,
   "id": "49fa84cb-4f9c-442a-83e4-e58ae63aabc0",
   "metadata": {},
   "outputs": [],
   "source": [
    "# -*- coding: utf-8 -*-\n",
    "\n",
    "\n",
    "\n",
    "import csv\n",
    "import matplotlib.pyplot as plt\n",
    "import numpy as np\n",
    "import os\n",
    "from wettbewerb import load_references, get_3montages\n",
    "import mne\n",
    "from scipy import signal as sig\n",
    "import ruptures as rpt\n",
    "import json\n",
    "import pywt\n",
    "from sklearn.model_selection import KFold, cross_val_score\n",
    "from sklearn.ensemble import RandomForestClassifier\n",
    "from sklearn.metrics import accuracy_score,classification_report\n",
    "import joblib\n",
    "from sklearn.model_selection import StratifiedKFold\n",
    "from sklearn.metrics import roc_curve, auc\n",
    "import pandas as pd\n",
    "\n"
   ]
  },
  {
   "cell_type": "code",
   "execution_count": 2,
   "id": "46ec89df-c91c-42ac-8805-d07076f6a1ca",
   "metadata": {},
   "outputs": [
    {
     "name": "stdout",
     "output_type": "stream",
     "text": [
      "Loading Dataset\n",
      "100\t Dateien wurden geladen.\n",
      "Dataset loaded\n"
     ]
    }
   ],
   "source": [
    "### if __name__ == '__main__':  # bei multiprocessing auf Windows notwendig\n",
    "\n",
    "training_folder  = \"../shared_data/training_mini\"\n",
    "\n",
    "\n",
    "print('Loading Dataset')\n",
    "ids, channels, data, sampling_frequencies, reference_systems, eeg_labels = load_references(training_folder) # Importiere EEG-Dateien, zugehörige Kanalbenennung, Sampling-Frequenz (Hz) und Name (meist fs=256 Hz), sowie Referenzsystem\n",
    "print('Dataset loaded')"
   ]
  },
  {
   "cell_type": "code",
   "execution_count": 25,
   "id": "c30e7b65-b17e-4739-a23f-ff5b35818e2d",
   "metadata": {},
   "outputs": [
    {
     "name": "stderr",
     "output_type": "stream",
     "text": [
      "/opt/tljh/user/lib/python3.9/site-packages/pywt/_multilevel.py:43: UserWarning: Level value of 4 is too high: all coefficients will experience boundary effects.\n",
      "  warnings.warn(\n"
     ]
    }
   ],
   "source": [
    "N_div = 100 # Numeber of subdivisions\n",
    "# Decompose the wave\n",
    "wavelet = 'db4'\n",
    "dataset_montage_line_length_array = np.zeros((len(ids)*N_div,15))\n",
    "for i,_id in enumerate(ids):\n",
    "    montage, montage_data, is_missing = get_3montages(channels[i], data[i])\n",
    "    montage_line_length_array = np.zeros((15))\n",
    "    for y in range(N_div):\n",
    "        for j, signal_name in enumerate(montage):\n",
    "            montage_divided = np.array_split(montage_data[j],N_div)\n",
    "            ca4, cd4, cd3, cd2, cd1 = pywt.wavedec(montage_divided[y], wavelet, level=4)\n",
    "            dwt_array = [ca4, cd4, cd3, cd2, cd1]\n",
    "            for w in range(len(dwt_array)):\n",
    "                montage_line_length_array[(5*j)+w] = np.sum(np.abs(np.diff(dwt_array[w])))/len(dwt_array[w])                \n",
    "        dataset_montage_line_length_array[i*N_div:i*N_div+15] = montage_line_length_array\n",
    "\n",
    "features = dataset_montage_line_length_array"
   ]
  },
  {
   "cell_type": "code",
   "execution_count": 26,
   "id": "72f14f2a-bf1c-4433-8d16-d452c154b90d",
   "metadata": {},
   "outputs": [],
   "source": [
    "labels = np.zeros((len(eeg_labels)*N_div))\n",
    "for i,_id in enumerate(ids):\n",
    "    if eeg_labels[i][0]:\n",
    "        onset = eeg_labels[i][1]\n",
    "        offset = eeg_labels[i][2]\n",
    "        sample_freq = sampling_frequencies[i]\n",
    "        total_time = len(data[i][1])/sample_freq\n",
    "        for num in range(N_div):\n",
    "            if (total_time/N_div)*(num+1) >= onset and (total_time/N_div)*(num+1) <= offset:\n",
    "                labels[i*N_div+num] = 1\n",
    "                \n"
   ]
  },
  {
   "cell_type": "code",
   "execution_count": 27,
   "id": "f84560bf-3348-45cb-9542-9f638ac04518",
   "metadata": {},
   "outputs": [],
   "source": [
    "rf_classifier = rf = RandomForestClassifier(\n",
    "    n_estimators=500,  # Number of trees in the forest\n",
    "    max_features=\"sqrt\",  # Number of features to consider at each split\n",
    "    max_depth=8,  # Maximum depth of each tree\n",
    "    min_samples_leaf=4,  # Minimum number of samples required to be at a leaf node\n",
    ")\n",
    "\n",
    "cv = KFold(n_splits=5, random_state=123, shuffle=True)\n",
    "results = pd.DataFrame(columns=['training_score', 'test_score'])\n",
    "fprs, tprs, scores = [], [], []"
   ]
  },
  {
   "cell_type": "code",
   "execution_count": 28,
   "id": "9ee03c88-fd88-49d4-b588-42b02d33508d",
   "metadata": {},
   "outputs": [
    {
     "name": "stdout",
     "output_type": "stream",
     "text": [
      "0.8745\n"
     ]
    }
   ],
   "source": [
    "results = cross_val_score(rf_classifier, features, labels, cv=cv)\n",
    "print(results.mean())"
   ]
  },
  {
   "cell_type": "code",
   "execution_count": null,
   "id": "a8896492-7c72-4332-a06a-9a603f66d680",
   "metadata": {},
   "outputs": [],
   "source": []
  },
  {
   "cell_type": "code",
   "execution_count": null,
   "id": "ab19d011-f99a-4365-ad91-8d12ea54d1d4",
   "metadata": {},
   "outputs": [],
   "source": []
  }
 ],
 "metadata": {
  "kernelspec": {
   "display_name": "Python 3 (ipykernel)",
   "language": "python",
   "name": "python3"
  },
  "language_info": {
   "codemirror_mode": {
    "name": "ipython",
    "version": 3
   },
   "file_extension": ".py",
   "mimetype": "text/x-python",
   "name": "python",
   "nbconvert_exporter": "python",
   "pygments_lexer": "ipython3",
   "version": "3.9.12"
  }
 },
 "nbformat": 4,
 "nbformat_minor": 5
}
