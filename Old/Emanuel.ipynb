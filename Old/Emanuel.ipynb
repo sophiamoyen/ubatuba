{
 "cells": [
  {
   "cell_type": "code",
   "execution_count": 1,
   "id": "f38ac30a-e7f4-4585-a37d-7ee04440e83e",
   "metadata": {},
   "outputs": [],
   "source": [
    "import csv\n",
    "import matplotlib.pyplot as plt\n",
    "import numpy as np\n",
    "import os\n",
    "from wettbewerb import load_references, get_3montages, get_6montages\n",
    "import mne\n",
    "from scipy import signal as sig\n",
    "import ruptures as rpt\n",
    "import pywt"
   ]
  },
  {
   "cell_type": "code",
   "execution_count": 2,
   "id": "794dcbaf-2e23-43af-82c6-fc3cd4b47be0",
   "metadata": {},
   "outputs": [],
   "source": [
    "training_folder = \"../test\""
   ]
  },
  {
   "cell_type": "code",
   "execution_count": 3,
   "id": "24859489-9838-48be-bd1e-d1a694cd2485",
   "metadata": {},
   "outputs": [
    {
     "name": "stdout",
     "output_type": "stream",
     "text": [
      "1000\t Dateien wurden geladen.\n"
     ]
    }
   ],
   "source": [
    "ids, channels, data, sampling_frequencies, reference_systems, eeg_labels = load_references(training_folder) \n",
    "# Importiere EKG-Dateien, zugehörige Diagnose, Sampling-Frequenz (Hz) und Name (meist fs=256 Hz)"
   ]
  },
  {
   "cell_type": "code",
   "execution_count": 4,
   "id": "675cfdfe-1495-47be-af63-1c22f94f9db8",
   "metadata": {},
   "outputs": [],
   "source": [
    "# Decompose the wave\n",
    "wavelet = 'db4'\n",
    "dataset_montage_line_length_array = np.zeros((len(ids),15))\n",
    "for i,_id in enumerate(ids):\n",
    "    montage, montage_data, is_missing = get_3montages(channels[i], data[i])\n",
    "    montage_line_length_array = np.zeros((15))\n",
    "    for j, signal_name in enumerate(montage):\n",
    "        ca4, cd4, cd3, cd2, cd1 = pywt.wavedec(montage_data[j], wavelet, level=4)\n",
    "        montage_line_length_array[(5*j)] = np.sum(np.abs(np.diff(ca4)))/len(ca4)\n",
    "        montage_line_length_array[(5*j)+1] = np.sum(np.abs(np.diff(cd4)))/len(cd4)\n",
    "        montage_line_length_array[(5*j)+2] = np.sum(np.abs(np.diff(cd3)))/len(cd3)\n",
    "        montage_line_length_array[(5*j)+3] = np.sum(np.abs(np.diff(cd2)))/len(cd2)\n",
    "        montage_line_length_array[(5*j)+4] = np.sum(np.abs(np.diff(cd1)))/len(cd1)\n",
    "    dataset_montage_line_length_array[i] = montage_line_length_array"
   ]
  },
  {
   "cell_type": "code",
   "execution_count": 5,
   "id": "06b33e80-3dc3-410c-81ff-c93ccc1be4ba",
   "metadata": {},
   "outputs": [
    {
     "data": {
      "text/plain": [
       "array([[6.87096789e-05, 2.44867114e-05, 1.13180397e-05, ...,\n",
       "        9.29530494e-06, 6.26150107e-06, 2.42339434e-05],\n",
       "       [7.68369260e-05, 2.71320109e-05, 1.25930928e-05, ...,\n",
       "        1.04708655e-05, 6.29303622e-06, 2.33241354e-05],\n",
       "       [7.49150167e-05, 2.63315376e-05, 1.22092122e-05, ...,\n",
       "        9.98153679e-06, 6.44460660e-06, 2.44918581e-05],\n",
       "       ...,\n",
       "       [6.82400683e-05, 7.24855439e-05, 4.33980325e-05, ...,\n",
       "        2.99905104e-06, 2.52739698e-06, 1.06150371e-06],\n",
       "       [1.45126718e-05, 6.11035196e-06, 2.70857945e-06, ...,\n",
       "        2.08439957e-06, 1.90950991e-06, 9.58611141e-07],\n",
       "       [1.24998557e-05, 5.11079692e-06, 2.13532587e-06, ...,\n",
       "        1.27991571e-06, 1.26903199e-06, 9.24636941e-07]])"
      ]
     },
     "execution_count": 5,
     "metadata": {},
     "output_type": "execute_result"
    }
   ],
   "source": [
    "dataset_montage_line_length_array"
   ]
  },
  {
   "cell_type": "code",
   "execution_count": 24,
   "id": "5bb7dec5-4b48-40a9-aabf-a1fcdcebd136",
   "metadata": {},
   "outputs": [
    {
     "name": "stdout",
     "output_type": "stream",
     "text": [
      "Average cross-validation accuracy: 0.834\n",
      "[0.805, 0.865, 0.84, 0.82, 0.84]\n"
     ]
    }
   ],
   "source": [
    "from sklearn.model_selection import KFold\n",
    "from sklearn.ensemble import RandomForestClassifier\n",
    "from sklearn.metrics import accuracy_score\n",
    "\n",
    "# Define the number of folds for cross-validation\n",
    "n_folds = 5\n",
    "\n",
    "# Initialize an empty list to store cross-validation scores\n",
    "scores = []\n",
    "features = dataset_montage_line_length_array\n",
    "labels = np.array(eeg_labels, dtype=int)[:,0]\n",
    "# Perform cross-validation\n",
    "kf = KFold(n_folds, shuffle=True, random_state=42)\n",
    "for train_index, test_index in kf.split(features):\n",
    "    # Extract low-dimensional features for training and testing data\n",
    "    X_train, X_test = features[train_index], features[test_index]\n",
    "    y_train, y_test = labels[train_index], labels[test_index]\n",
    "\n",
    "    # Train the random forest classifier on the training data\n",
    "    rf_classifier = RandomForestClassifier()\n",
    "    rf_classifier.fit(X_train, y_train)\n",
    "\n",
    "    # Make predictions on the testing data\n",
    "    predictions = rf_classifier.predict(X_test)\n",
    "\n",
    "    # Calculate the accuracy score for the current fold\n",
    "    accuracy = accuracy_score(y_test, predictions)\n",
    "    scores.append(accuracy)\n",
    "\n",
    "# Calculate the average cross-validation score\n",
    "average_score = np.mean(scores)\n",
    "print('Average cross-validation accuracy:', average_score)\n",
    "print(scores)"
   ]
  },
  {
   "cell_type": "code",
   "execution_count": null,
   "id": "ddae757b-6ad1-4996-aea1-298a3f731ed4",
   "metadata": {},
   "outputs": [],
   "source": []
  },
  {
   "cell_type": "code",
   "execution_count": null,
   "id": "2712ed62-7f8e-43fc-b948-9098be6b165c",
   "metadata": {},
   "outputs": [],
   "source": []
  }
 ],
 "metadata": {
  "kernelspec": {
   "display_name": "Python 3 (ipykernel)",
   "language": "python",
   "name": "python3"
  },
  "language_info": {
   "codemirror_mode": {
    "name": "ipython",
    "version": 3
   },
   "file_extension": ".py",
   "mimetype": "text/x-python",
   "name": "python",
   "nbconvert_exporter": "python",
   "pygments_lexer": "ipython3",
   "version": "3.9.12"
  }
 },
 "nbformat": 4,
 "nbformat_minor": 5
}
