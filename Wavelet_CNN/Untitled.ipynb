{
 "cells": [
  {
   "cell_type": "code",
   "execution_count": 159,
   "id": "906f3948-b803-45aa-a3ad-e784142964f5",
   "metadata": {},
   "outputs": [],
   "source": [
    "m = np.array([0,1,0,0,1,0,0,0,0,0,0,0,0,0,0])"
   ]
  },
  {
   "cell_type": "code",
   "execution_count": 155,
   "id": "cbccaf3c-b31c-4dcb-8b4a-a549d36deb5b",
   "metadata": {},
   "outputs": [],
   "source": [
    "def sequential_window_algorithm(y):\n",
    "    r = len(y)\n",
    "    outRF = y.copy()\n",
    "    \n",
    "    # Making 5 Epoch sliding windows only if there are >= 5 Epochs\n",
    "    if r>=5:\n",
    "        c = 0\n",
    "        for i in range(r-4):\n",
    "            if outRF[i] == 0 and outRF[i+4] == 0:\n",
    "                for j in range(i,(i+4)+1):\n",
    "                    if outRF[j] == 1:\n",
    "                        c += 1\n",
    "                if c <= 1:\n",
    "                    for k in range(i,(i+3)+1):\n",
    "                        outRF[k] = 0\n",
    "                c = 0\n",
    "    \n",
    "    return outRF\n",
    "                    \n",
    "                "
   ]
  },
  {
   "cell_type": "code",
   "execution_count": 160,
   "id": "69885c74-be8c-48c6-b2cf-e4520d36c56e",
   "metadata": {},
   "outputs": [
    {
     "data": {
      "text/plain": [
       "array([0, 1, 0, 0, 0, 0, 0, 0, 0, 0, 0, 0, 0, 0, 0])"
      ]
     },
     "execution_count": 160,
     "metadata": {},
     "output_type": "execute_result"
    }
   ],
   "source": [
    "sequential_window_algorithm(m)"
   ]
  },
  {
   "cell_type": "code",
   "execution_count": 115,
   "id": "4e30f866-b74e-40ee-a09c-ded32b5e8532",
   "metadata": {},
   "outputs": [
    {
     "data": {
      "text/plain": [
       "array([1, 0, 1, 0, 1])"
      ]
     },
     "execution_count": 115,
     "metadata": {},
     "output_type": "execute_result"
    }
   ],
   "source": [
    "y"
   ]
  },
  {
   "cell_type": "code",
   "execution_count": 5,
   "id": "3f28440a-112a-4a8f-8808-4df0123aed6e",
   "metadata": {},
   "outputs": [],
   "source": [
    "import numpy as np"
   ]
  },
  {
   "cell_type": "code",
   "execution_count": 20,
   "id": "27660404-5154-4c90-8573-a8f2e6ab4d99",
   "metadata": {},
   "outputs": [],
   "source": [
    "a = np.zeros(3)\n",
    "\n",
    "a[0:2] = np.array([3,\n",
    "                   4])"
   ]
  },
  {
   "cell_type": "code",
   "execution_count": 12,
   "id": "cddb57e8-717f-4774-ab8a-b9470ac77c3e",
   "metadata": {},
   "outputs": [
    {
     "data": {
      "text/plain": [
       "array([0.])"
      ]
     },
     "execution_count": 12,
     "metadata": {},
     "output_type": "execute_result"
    }
   ],
   "source": [
    "a[0:1]"
   ]
  },
  {
   "cell_type": "code",
   "execution_count": 14,
   "id": "ec9f9ffe-dc65-4955-a880-f2d16feaa2aa",
   "metadata": {},
   "outputs": [
    {
     "data": {
      "text/plain": [
       "array([3., 4., 0.])"
      ]
     },
     "execution_count": 14,
     "metadata": {},
     "output_type": "execute_result"
    }
   ],
   "source": [
    "a"
   ]
  },
  {
   "cell_type": "code",
   "execution_count": 15,
   "id": "ebbc87ce-66b0-4004-b4f6-1f25cf248766",
   "metadata": {},
   "outputs": [],
   "source": [
    "a = np.zeros(3)"
   ]
  },
  {
   "cell_type": "code",
   "execution_count": 21,
   "id": "179cbb22-5560-4b5d-89d3-cf0ecd4ee7a0",
   "metadata": {},
   "outputs": [
    {
     "data": {
      "text/plain": [
       "array([3., 4., 0.])"
      ]
     },
     "execution_count": 21,
     "metadata": {},
     "output_type": "execute_result"
    }
   ],
   "source": [
    "a"
   ]
  },
  {
   "cell_type": "code",
   "execution_count": 23,
   "id": "78475053-00fc-4154-9fa5-be9569d10ec3",
   "metadata": {},
   "outputs": [
    {
     "name": "stdout",
     "output_type": "stream",
     "text": [
      "['M1_ca4_ll', 'M1_ca4_skew', 'M1_ca4_kurt', 'M1_cd4_ll', 'M1_cd4_skew', 'M1_cd4_kurt', 'M1_cd3_ll', 'M1_cd3_skew', 'M1_cd3_kurt', 'M1_cd2_ll', 'M1_cd2_skew', 'M1_cd2_kurt', 'M1_cd1_ll', 'M1_cd1_skew', 'M1_cd1_kurt', 'M2_ca4_ll', 'M2_ca4_skew', 'M2_ca4_kurt', 'M2_cd4_ll', 'M2_cd4_skew', 'M2_cd4_kurt', 'M2_cd3_ll', 'M2_cd3_skew', 'M2_cd3_kurt', 'M2_cd2_ll', 'M2_cd2_skew', 'M2_cd2_kurt', 'M2_cd1_ll', 'M2_cd1_skew', 'M2_cd1_kurt', 'M3_ca4_ll', 'M3_ca4_skew', 'M3_ca4_kurt', 'M3_cd4_ll', 'M3_cd4_skew', 'M3_cd4_kurt', 'M3_cd3_ll', 'M3_cd3_skew', 'M3_cd3_kurt', 'M3_cd2_ll', 'M3_cd2_skew', 'M3_cd2_kurt', 'M3_cd1_ll', 'M3_cd1_skew', 'M3_cd1_kurt']\n"
     ]
    }
   ],
   "source": [
    "def generate_names(montages, signals, features):\n",
    "  \"\"\"\n",
    "  Generates a list of names combining montages, signals, and features.\n",
    "\n",
    "  Args:\n",
    "    montages: A list of montage names (strings).\n",
    "    signals: A list of signal names (strings).\n",
    "    features: A list of feature names (strings).\n",
    "\n",
    "  Returns:\n",
    "    A list of strings, each combining a montage, signal, and feature.\n",
    "  \"\"\"\n",
    "\n",
    "  names = []\n",
    "  for montage in montages:\n",
    "    for signal in signals:\n",
    "      for feature in features:\n",
    "        name = f\"{montage}_{signal}_{feature}\"\n",
    "        names.append(name)\n",
    "  return names\n",
    "\n",
    "# Example usage\n",
    "montages = [\"M1\", \"M2\", \"M3\"]\n",
    "signals = [\"ca4\",\"cd4\",\"cd3\",\"cd2\",\"cd1\"]\n",
    "features = [\"ll\", \"skew\", \"kurt\"]\n",
    "\n",
    "names = generate_names(montages, signals, features)\n",
    "\n",
    "print(names)"
   ]
  },
  {
   "cell_type": "code",
   "execution_count": 28,
   "id": "54ceb072-23f3-4783-b5c2-4ac3a497bf86",
   "metadata": {},
   "outputs": [
    {
     "name": "stdout",
     "output_type": "stream",
     "text": [
      "['M1_ca4_ll', 'M1_cd4_ll', 'M1_cd3_ll', 'M1_cd2_ll', 'M1_ca1_ll', 'M2_ca4_ll', 'M2_cd4_ll', 'M2_cd3_ll', 'M2_cd2_ll', 'M2_ca1_ll', 'M3_ca4_ll', 'M3_cd4_ll', 'M3_cd3_ll', 'M3_cd2_ll', 'M3_ca1_ll']\n"
     ]
    }
   ],
   "source": [
    "def generate_names(montages, features):\n",
    " \"\"\"\n",
    " Generates a list of names combining montages and features.\n",
    "\n",
    " Args:\n",
    "   montages: A list of montage names (strings).\n",
    "   features: A list of feature names (strings).\n",
    "\n",
    " Returns:\n",
    "   A list of strings, each combining a montage and feature.\n",
    " \"\"\"\n",
    "\n",
    " names = []\n",
    " for montage in montages:\n",
    "   for feature in features:\n",
    "     name = f\"{montage}_{feature}\"\n",
    "     names.append(name)\n",
    " return names\n",
    "\n",
    "# Example usage\n",
    "montages = [\"M1\", \"M2\", \"M3\"]\n",
    "features = [\"ca4_ll\", \"cd4_ll\", \"cd3_ll\", \"cd2_ll\", \"ca1_ll\"]\n",
    "\n",
    "names = generate_names(montages, features)\n",
    "\n",
    "print(names)"
   ]
  },
  {
   "cell_type": "code",
   "execution_count": null,
   "id": "0de0c1bb-d880-46fe-b641-edc00e186222",
   "metadata": {},
   "outputs": [],
   "source": []
  }
 ],
 "metadata": {
  "kernelspec": {
   "display_name": "Python [conda env:root] *",
   "language": "python",
   "name": "conda-root-py"
  },
  "language_info": {
   "codemirror_mode": {
    "name": "ipython",
    "version": 3
   },
   "file_extension": ".py",
   "mimetype": "text/x-python",
   "name": "python",
   "nbconvert_exporter": "python",
   "pygments_lexer": "ipython3",
   "version": "3.9.12"
  }
 },
 "nbformat": 4,
 "nbformat_minor": 5
}
