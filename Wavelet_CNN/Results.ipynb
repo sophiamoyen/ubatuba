{
 "cells": [
  {
   "cell_type": "code",
   "execution_count": 1,
   "id": "1d9ef85d-e081-4322-aad6-eb099eb9f60a",
   "metadata": {},
   "outputs": [],
   "source": [
    "import csv\n",
    "import matplotlib.pyplot as plt\n",
    "import numpy as np\n",
    "import os\n",
    "import pandas as pd\n",
    "from sklearn.metrics import accuracy_score, classification_report"
   ]
  },
  {
   "cell_type": "code",
   "execution_count": 2,
   "id": "6222bf05-f393-4a8f-ab41-76f5bfe7d37d",
   "metadata": {},
   "outputs": [
    {
     "data": {
      "text/plain": [
       "<AxesSubplot:ylabel='Frequency'>"
      ]
     },
     "execution_count": 2,
     "metadata": {},
     "output_type": "execute_result"
    },
    {
     "data": {
      "image/png": "[encoded data removed]",
      "text/plain": [
       "<Figure size 432x288 with 1 Axes>"
      ]
     },
     "metadata": {
      "needs_background": "light"
     },
     "output_type": "display_data"
    }
   ],
   "source": [
    "headers = ['Sinal','Seizure','Onset','Offset']\n",
    "df = pd.read_csv('../../test_1/REFERENCE.csv', names=headers)\n",
    "y_test = df['Seizure']\n",
    "df['Seizure'].plot(kind='hist')"
   ]
  },
  {
   "cell_type": "code",
   "execution_count": 3,
   "id": "ef0f0163-44fd-4eca-acc1-da6d34490dc0",
   "metadata": {},
   "outputs": [
    {
     "data": {
      "text/plain": [
       "<AxesSubplot:>"
      ]
     },
     "execution_count": 3,
     "metadata": {},
     "output_type": "execute_result"
    },
    {
     "data": {
      "image/png": "[encoded data removed]",
      "text/plain": [
       "<Figure size 432x288 with 1 Axes>"
      ]
     },
     "metadata": {
      "needs_background": "light"
     },
     "output_type": "display_data"
    }
   ],
   "source": [
    "headers = ['Sinal','Seizure','Onset','Offset']\n",
    "df = pd.read_csv('../9_Features/PREDICTIONS.csv')\n",
    "predictions = []\n",
    "for i in df['seizure_present']:\n",
    "    predictions.append(int(i[1]))\n",
    "df['seizure_present'].value_counts().plot(kind='bar')"
   ]
  },
  {
   "cell_type": "code",
   "execution_count": 4,
   "id": "5e6d5aff-5035-474e-878b-9c09347470ec",
   "metadata": {},
   "outputs": [
    {
     "name": "stdout",
     "output_type": "stream",
     "text": [
      "              precision    recall  f1-score   support\n",
      "\n",
      "           0       0.63      0.52      0.57       528\n",
      "           1       0.35      0.47      0.40       298\n",
      "\n",
      "    accuracy                           0.50       826\n",
      "   macro avg       0.49      0.49      0.49       826\n",
      "weighted avg       0.53      0.50      0.51       826\n",
      "\n"
     ]
    }
   ],
   "source": [
    "accuracy = accuracy_score(y_test, predictions)\n",
    "print(classification_report(y_test, predictions))"
   ]
  }
 ],
 "metadata": {
  "kernelspec": {
   "display_name": "Python [conda env:root] *",
   "language": "python",
   "name": "conda-root-py"
  },
  "language_info": {
   "codemirror_mode": {
    "name": "ipython",
    "version": 3
   },
   "file_extension": ".py",
   "mimetype": "text/x-python",
   "name": "python",
   "nbconvert_exporter": "python",
   "pygments_lexer": "ipython3",
   "version": "3.9.12"
  }
 },
 "nbformat": 4,
 "nbformat_minor": 5
}
