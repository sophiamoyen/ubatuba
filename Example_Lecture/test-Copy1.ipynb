{
 "cells": [
  {
   "cell_type": "code",
   "execution_count": 74,
   "id": "49fa84cb-4f9c-442a-83e4-e58ae63aabc0",
   "metadata": {},
   "outputs": [],
   "source": [
    "# -*- coding: utf-8 -*-\n",
    "\n",
    "\n",
    "\n",
    "import csv\n",
    "import matplotlib.pyplot as plt\n",
    "import numpy as np\n",
    "import os\n",
    "from wettbewerb import load_references, get_3montages\n",
    "import mne\n",
    "from scipy import signal as sig\n",
    "import ruptures as rpt\n",
    "import json\n",
    "import pywt\n",
    "from sklearn.model_selection import KFold, cross_val_score\n",
    "from sklearn.ensemble import RandomForestClassifier\n",
    "from sklearn.metrics import accuracy_score\n",
    "import joblib\n",
    "from sklearn.model_selection import StratifiedKFold\n",
    "from sklearn.metrics import roc_curve, auc\n",
    "import pandas as pd\n",
    "\n",
    "def plot_roc_curve(fprs, tprs):\n",
    "    \"\"\"Plot the Receiver Operating Characteristic from a list\n",
    "    of true positive rates and false positive rates.\"\"\"\n",
    "    \n",
    "    # Initialize useful lists + the plot axes.\n",
    "    tprs_interp = []\n",
    "    aucs = []\n",
    "    mean_fpr = np.linspace(0, 1, 100)\n",
    "    f, ax = plt.subplots(figsize=(14,10))\n",
    "    \n",
    "    # Plot ROC for each K-Fold + compute AUC scores.\n",
    "    for i, (fpr, tpr) in enumerate(zip(fprs, tprs)):\n",
    "        tprs_interp.append(np.interp(mean_fpr, fpr, tpr))\n",
    "        tprs_interp[-1][0] = 0.0\n",
    "        roc_auc = auc(fpr, tpr)\n",
    "        aucs.append(roc_auc)\n",
    "        ax.plot(fpr, tpr, lw=1, alpha=0.3,\n",
    "                 label='ROC fold %d (AUC = %0.2f)' % (i, roc_auc))\n",
    "        \n",
    "    # Plot the luck line.\n",
    "    plt.plot([0, 1], [0, 1], linestyle='--', lw=2, color='r',\n",
    "             label='Luck', alpha=.8)\n",
    "    \n",
    "    # Plot the mean ROC.\n",
    "    mean_tpr = np.mean(tprs_interp, axis=0)\n",
    "    mean_tpr[-1] = 1.0\n",
    "    mean_auc = auc(mean_fpr, mean_tpr)\n",
    "    std_auc = np.std(aucs)\n",
    "    ax.plot(mean_fpr, mean_tpr, color='b',\n",
    "             label=r'Mean ROC (AUC = %0.2f $\\pm$ %0.2f)' % (mean_auc, std_auc),\n",
    "             lw=2, alpha=.8)\n",
    "    \n",
    "    # Plot the standard deviation around the mean ROC.\n",
    "    std_tpr = np.std(tprs_interp, axis=0)\n",
    "    tprs_upper = np.minimum(mean_tpr + std_tpr, 1)\n",
    "    tprs_lower = np.maximum(mean_tpr - std_tpr, 0)\n",
    "    ax.fill_between(mean_fpr, tprs_lower, tprs_upper, color='grey', alpha=.2,\n",
    "                     label=r'$\\pm$ 1 std. dev.')\n",
    "    \n",
    "    # Fine tune and show the plot.\n",
    "    ax.set_xlim([-0.05, 1.05])\n",
    "    ax.set_ylim([-0.05, 1.05])\n",
    "    ax.set_xlabel('False Positive Rate')\n",
    "    ax.set_ylabel('True Positive Rate')\n",
    "    ax.set_title('Receiver operating characteristic')\n",
    "    ax.legend(loc=\"lower right\")\n",
    "    plt.show()\n",
    "    return (f, ax)\n",
    "\n",
    "def compute_roc_auc(index):\n",
    "    y_predict = rf_classifier.predict_proba(features[index])[:,1]\n",
    "    fpr, tpr, thresholds = roc_curve(labels[index], y_predict)\n",
    "    auc_score = auc(fpr, tpr)\n",
    "    return fpr, tpr, auc_score"
   ]
  },
  {
   "cell_type": "code",
   "execution_count": 2,
   "id": "46ec89df-c91c-42ac-8805-d07076f6a1ca",
   "metadata": {},
   "outputs": [
    {
     "name": "stdout",
     "output_type": "stream",
     "text": [
      "Loading Dataset\n",
      "1018\t Dateien wurden geladen.\n",
      "Dataset loaded\n"
     ]
    }
   ],
   "source": [
    "### if __name__ == '__main__':  # bei multiprocessing auf Windows notwendig\n",
    "\n",
    "training_folder  = \"../training\"\n",
    "\n",
    "\n",
    "print('Loading Dataset')\n",
    "ids, channels, data, sampling_frequencies, reference_systems, eeg_labels = load_references(training_folder) # Importiere EEG-Dateien, zugehörige Kanalbenennung, Sampling-Frequenz (Hz) und Name (meist fs=256 Hz), sowie Referenzsystem\n",
    "print('Dataset loaded')"
   ]
  },
  {
   "cell_type": "code",
   "execution_count": 77,
   "id": "c30e7b65-b17e-4739-a23f-ff5b35818e2d",
   "metadata": {},
   "outputs": [],
   "source": [
    "N_div = 2 # Numeber of subdivisions\n",
    "# Decompose the wave\n",
    "wavelet = 'db4'\n",
    "dataset_montage_line_length_array = np.zeros((len(ids),15*N_div))\n",
    "for i,_id in enumerate(ids):\n",
    "    montage, montage_data, is_missing = get_3montages(channels[i], data[i])\n",
    "    montage_line_length_array = np.zeros((15*N_div))\n",
    "    for y in range(N_div):\n",
    "        for j, signal_name in enumerate(montage):\n",
    "            temp = np.zeros((N_div*5))\n",
    "            ca4, cd4, cd3, cd2, cd1 = pywt.wavedec(montage_data[j], wavelet, level=4)\n",
    "            dwt_array = [ca4, cd4, cd3, cd2, cd1]\n",
    "            for w in range(len(dwt_array)):\n",
    "                array_divided = np.array_split(dwt_array[w],N_div)\n",
    "                \n",
    "                    # temp[(y+(w*N_div))] = np.sum(np.abs(np.diff(array_divided[y])))/len(array_divided[y])\n",
    "            montage_line_length_array[(j*N_div*5):(j*N_div*5)+N_div*5] = temp\n",
    "                \n",
    "    dataset_montage_line_length_array[i] = montage_line_length_array\n",
    "\n",
    "features = dataset_montage_line_length_array"
   ]
  },
  {
   "cell_type": "code",
   "execution_count": null,
   "id": "9534a972-1b53-4efe-8e2f-f2507b8e0b70",
   "metadata": {},
   "outputs": [],
   "source": []
  },
  {
   "cell_type": "code",
   "execution_count": 65,
   "id": "72f14f2a-bf1c-4433-8d16-d452c154b90d",
   "metadata": {},
   "outputs": [],
   "source": [
    "labels = np.zeros((len(eeg_labels),N_div))\n",
    "for i,_id in enumerate(ids):\n",
    "    if eeg_labels[i][0]:\n",
    "        onset = eeg_labels[i][1]\n",
    "        offset = eeg_labels[i][2]\n",
    "        sample_freq = sampling_frequencies[i]\n",
    "        total_time = len(data[i][1])/sample_freq\n",
    "        for num in range(N_div):\n",
    "            if (total_time/N_div)*(num+1) >= onset and (total_time/N_div)*(num+1) <= offset:\n",
    "                labels[i][num] = 1\n",
    "        \n",
    "        \n",
    "\n",
    "#labels = np.array(eeg_labels, dtype=int)[:,0]"
   ]
  },
  {
   "cell_type": "code",
   "execution_count": 72,
   "id": "f84560bf-3348-45cb-9542-9f638ac04518",
   "metadata": {},
   "outputs": [],
   "source": [
    "rf_classifier = rf = RandomForestClassifier(\n",
    "    n_estimators=500,  # Number of trees in the forest\n",
    "    max_features=\"sqrt\",  # Number of features to consider at each split\n",
    "    max_depth=8,  # Maximum depth of each tree\n",
    "    min_samples_leaf=4,  # Minimum number of samples required to be at a leaf node\n",
    ")\n",
    "\n",
    "cv = KFold(n_splits=5, random_state=123, shuffle=True)\n",
    "results = pd.DataFrame(columns=['training_score', 'test_score'])\n",
    "fprs, tprs, scores = [], [], []"
   ]
  },
  {
   "cell_type": "code",
   "execution_count": 73,
   "id": "348693ce-5869-4a46-b920-a6bce2615a7d",
   "metadata": {},
   "outputs": [
    {
     "ename": "TypeError",
     "evalue": "list indices must be integers or slices, not tuple",
     "output_type": "error",
     "traceback": [
      "\u001b[0;31m---------------------------------------------------------------------------\u001b[0m",
      "\u001b[0;31mTypeError\u001b[0m                                 Traceback (most recent call last)",
      "Input \u001b[0;32mIn [73]\u001b[0m, in \u001b[0;36m<cell line: 1>\u001b[0;34m()\u001b[0m\n\u001b[1;32m      1\u001b[0m \u001b[38;5;28;01mfor\u001b[39;00m (train, test), i \u001b[38;5;129;01min\u001b[39;00m \u001b[38;5;28mzip\u001b[39m(cv\u001b[38;5;241m.\u001b[39msplit(features, labels), \u001b[38;5;28mrange\u001b[39m(\u001b[38;5;241m5\u001b[39m)):\n\u001b[1;32m      2\u001b[0m     rf_classifier\u001b[38;5;241m.\u001b[39mfit(features[train], labels[train])\n\u001b[0;32m----> 3\u001b[0m     _, _, auc_score_train \u001b[38;5;241m=\u001b[39m \u001b[43mcompute_roc_auc\u001b[49m\u001b[43m(\u001b[49m\u001b[43mtrain\u001b[49m\u001b[43m)\u001b[49m\n\u001b[1;32m      4\u001b[0m     fpr, tpr, auc_score \u001b[38;5;241m=\u001b[39m compute_roc_auc(test)\n\u001b[1;32m      5\u001b[0m     scores\u001b[38;5;241m.\u001b[39mappend((auc_score_train, auc_score))\n",
      "Input \u001b[0;32mIn [1]\u001b[0m, in \u001b[0;36mcompute_roc_auc\u001b[0;34m(index)\u001b[0m\n\u001b[1;32m     72\u001b[0m \u001b[38;5;28;01mdef\u001b[39;00m \u001b[38;5;21mcompute_roc_auc\u001b[39m(index):\n\u001b[0;32m---> 73\u001b[0m     y_predict \u001b[38;5;241m=\u001b[39m \u001b[43mrf_classifier\u001b[49m\u001b[38;5;241;43m.\u001b[39;49m\u001b[43mpredict_proba\u001b[49m\u001b[43m(\u001b[49m\u001b[43mfeatures\u001b[49m\u001b[43m[\u001b[49m\u001b[43mindex\u001b[49m\u001b[43m]\u001b[49m\u001b[43m)\u001b[49m\u001b[43m[\u001b[49m\u001b[43m:\u001b[49m\u001b[43m,\u001b[49m\u001b[38;5;241;43m1\u001b[39;49m\u001b[43m]\u001b[49m\n\u001b[1;32m     74\u001b[0m     fpr, tpr, thresholds \u001b[38;5;241m=\u001b[39m roc_curve(labels[index], y_predict)\n\u001b[1;32m     75\u001b[0m     auc_score \u001b[38;5;241m=\u001b[39m auc(fpr, tpr)\n",
      "\u001b[0;31mTypeError\u001b[0m: list indices must be integers or slices, not tuple"
     ]
    }
   ],
   "source": [
    "for (train, test), i in zip(cv.split(features, labels), range(5)):\n",
    "    rf_classifier.fit(features[train], labels[train])\n",
    "    _, _, auc_score_train = compute_roc_auc(train)\n",
    "    fpr, tpr, auc_score = compute_roc_auc(test)\n",
    "    scores.append((auc_score_train, auc_score))\n",
    "    fprs.append(fpr)\n",
    "    tprs.append(tpr)\n",
    "\n",
    "plot_roc_curve(fprs, tprs);\n",
    "pd.DataFrame(scores, columns=['AUC Train', 'AUC Test'])"
   ]
  },
  {
   "cell_type": "code",
   "execution_count": 75,
   "id": "9ee03c88-fd88-49d4-b588-42b02d33508d",
   "metadata": {},
   "outputs": [
    {
     "name": "stdout",
     "output_type": "stream",
     "text": [
      "0.6326427122573166\n"
     ]
    }
   ],
   "source": [
    "\n",
    "\n",
    "\n",
    "\n",
    "results = cross_val_score(rf_classifier, features, labels, cv=cv)\n",
    "print(results.mean())"
   ]
  },
  {
   "cell_type": "code",
   "execution_count": null,
   "id": "a8896492-7c72-4332-a06a-9a603f66d680",
   "metadata": {},
   "outputs": [],
   "source": []
  },
  {
   "cell_type": "code",
   "execution_count": null,
   "id": "ab19d011-f99a-4365-ad91-8d12ea54d1d4",
   "metadata": {},
   "outputs": [],
   "source": []
  }
 ],
 "metadata": {
  "kernelspec": {
   "display_name": "Python 3 (ipykernel)",
   "language": "python",
   "name": "python3"
  },
  "language_info": {
   "codemirror_mode": {
    "name": "ipython",
    "version": 3
   },
   "file_extension": ".py",
   "mimetype": "text/x-python",
   "name": "python",
   "nbconvert_exporter": "python",
   "pygments_lexer": "ipython3",
   "version": "3.9.12"
  }
 },
 "nbformat": 4,
 "nbformat_minor": 5
}
